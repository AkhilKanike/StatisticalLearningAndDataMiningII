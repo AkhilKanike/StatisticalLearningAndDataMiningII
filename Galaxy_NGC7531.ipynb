{
  "nbformat": 4,
  "nbformat_minor": 0,
  "metadata": {
    "colab": {
      "name": "Galaxy_NGC7531_Spectral_Clustering.ipynb",
      "provenance": [],
      "collapsed_sections": [],
      "authorship_tag": "ABX9TyNHd7pSLWBMXG1oekKsiW4h",
      "include_colab_link": true
    },
    "kernelspec": {
      "name": "python3",
      "display_name": "Python 3"
    },
    "language_info": {
      "name": "python"
    }
  },
  "cells": [
    {
      "cell_type": "markdown",
      "metadata": {
        "id": "view-in-github",
        "colab_type": "text"
      },
      "source": [
        "<a href=\"https://colab.research.google.com/github/AkhilKanike/StatisticalLearningAndDataMiningII/blob/Data-ingestion/Galaxy_NGC7531.ipynb\" target=\"_parent\"><img src=\"https://colab.research.google.com/assets/colab-badge.svg\" alt=\"Open In Colab\"/></a>"
      ]
    },
    {
      "cell_type": "markdown",
      "metadata": {
        "id": "6QTgPGl6aRzj"
      },
      "source": [
        "Radial Velocity of Galaxy NGC7531\n",
        "\n",
        "SUMMARY:\n",
        "\n",
        "       The galaxy data frame records the  radial  velocity  of  a spiral  galaxy  measured  at 323 points in the area of sky which it covers.  \n",
        "      All the measurements  lie  within  seven slots  crossing at the origin.  The positions of the measurements given by four variables (columns).\n",
        "\n",
        "DATA DESCRIPTION:\n",
        "\n",
        " - east.west: the east-west coordinate.  \n",
        "        The origin,  (0,0),  is near  the  center of the galaxy, east is negative, west is positive.\n",
        "\n",
        " - north.south: the north-south coordinate.  \n",
        "        The origin, (0,0), is near the center of the galaxy, south is negative, north is positive.\n",
        "\n",
        " - angle: \n",
        "        degrees of counter-clockwise rotation from the horizontal of the slot within which the observation lies.\n",
        "\n",
        " - radial.position: \n",
        "        signed  distance  from  origin;  negative  if east-west coordinate is negative.\n",
        "\n",
        " - velocity: \n",
        "        radial velocity measured in km/sec.\n",
        "\n",
        "SOURCE:\n",
        "\n",
        "      Buta, R. (1987)  The  Structure  and  Dynamics  of  Ringed Galaxies III:  Surface  Photometry and Kinematics of the Ringed Nonbarred Spiral NGC7531. \n",
        "      The  Astrophysical  J.Supplement Ser. Vol. 64, pp. 1--37.\n",
        "      John M. Chambers and Trevor J. Hastie, (eds.)  Statistical Models in S, Wadsworth and Brooks, Pacific Grove, CA 1992, pg. 352."
      ]
    },
    {
      "cell_type": "code",
      "metadata": {
        "colab": {
          "base_uri": "https://localhost:8080/"
        },
        "id": "ASnE-7D6VPcW",
        "outputId": "0d463bd7-950f-45b3-dbfb-a3136f5e269b"
      },
      "source": [
        "!wget https://web.stanford.edu/~hastie/ElemStatLearn/datasets/galaxy.data\n"
      ],
      "execution_count": 2,
      "outputs": [
        {
          "output_type": "stream",
          "name": "stdout",
          "text": [
            "--2021-09-27 17:51:34--  https://web.stanford.edu/~hastie/ElemStatLearn/datasets/galaxy.data\n",
            "Resolving web.stanford.edu (web.stanford.edu)... 171.67.215.200, 2607:f6d0:0:925a::ab43:d7c8\n",
            "Connecting to web.stanford.edu (web.stanford.edu)|171.67.215.200|:443... connected.\n",
            "HTTP request sent, awaiting response... 200 OK\n",
            "Length: 21386 (21K)\n",
            "Saving to: ‘galaxy.data’\n",
            "\n",
            "galaxy.data         100%[===================>]  20.88K  --.-KB/s    in 0.07s   \n",
            "\n",
            "2021-09-27 17:51:35 (288 KB/s) - ‘galaxy.data’ saved [21386/21386]\n",
            "\n"
          ]
        }
      ]
    },
    {
      "cell_type": "code",
      "metadata": {
        "id": "WVJ34w9DX-g6"
      },
      "source": [
        "import pandas as pd\n",
        "import numpy as np"
      ],
      "execution_count": 3,
      "outputs": []
    },
    {
      "cell_type": "code",
      "metadata": {
        "colab": {
          "base_uri": "https://localhost:8080/",
          "height": 417
        },
        "id": "ter93iVCYmdV",
        "outputId": "64f45e56-bd37-44c0-d6c9-2d7cf7d41175"
      },
      "source": [
        "pd.read_csv(\"galaxy.data\")"
      ],
      "execution_count": 5,
      "outputs": [
        {
          "output_type": "execute_result",
          "data": {
            "text/html": [
              "<div>\n",
              "<style scoped>\n",
              "    .dataframe tbody tr th:only-of-type {\n",
              "        vertical-align: middle;\n",
              "    }\n",
              "\n",
              "    .dataframe tbody tr th {\n",
              "        vertical-align: top;\n",
              "    }\n",
              "\n",
              "    .dataframe thead th {\n",
              "        text-align: right;\n",
              "    }\n",
              "</style>\n",
              "<table border=\"1\" class=\"dataframe\">\n",
              "  <thead>\n",
              "    <tr style=\"text-align: right;\">\n",
              "      <th></th>\n",
              "      <th>row.names</th>\n",
              "      <th>east.west</th>\n",
              "      <th>north.south</th>\n",
              "      <th>angle</th>\n",
              "      <th>radial.position</th>\n",
              "      <th>velocity</th>\n",
              "    </tr>\n",
              "  </thead>\n",
              "  <tbody>\n",
              "    <tr>\n",
              "      <th>0</th>\n",
              "      <td>3</td>\n",
              "      <td>8.462789</td>\n",
              "      <td>-38.173172</td>\n",
              "      <td>102.5</td>\n",
              "      <td>39.099998</td>\n",
              "      <td>1769</td>\n",
              "    </tr>\n",
              "    <tr>\n",
              "      <th>1</th>\n",
              "      <td>4</td>\n",
              "      <td>7.964978</td>\n",
              "      <td>-35.927692</td>\n",
              "      <td>102.5</td>\n",
              "      <td>36.799999</td>\n",
              "      <td>1749</td>\n",
              "    </tr>\n",
              "    <tr>\n",
              "      <th>2</th>\n",
              "      <td>5</td>\n",
              "      <td>7.467167</td>\n",
              "      <td>-33.682213</td>\n",
              "      <td>102.5</td>\n",
              "      <td>34.500001</td>\n",
              "      <td>1749</td>\n",
              "    </tr>\n",
              "    <tr>\n",
              "      <th>3</th>\n",
              "      <td>6</td>\n",
              "      <td>6.969356</td>\n",
              "      <td>-31.436731</td>\n",
              "      <td>102.5</td>\n",
              "      <td>32.200000</td>\n",
              "      <td>1758</td>\n",
              "    </tr>\n",
              "    <tr>\n",
              "      <th>4</th>\n",
              "      <td>7</td>\n",
              "      <td>6.471544</td>\n",
              "      <td>-29.191250</td>\n",
              "      <td>102.5</td>\n",
              "      <td>29.899999</td>\n",
              "      <td>1750</td>\n",
              "    </tr>\n",
              "    <tr>\n",
              "      <th>...</th>\n",
              "      <td>...</td>\n",
              "      <td>...</td>\n",
              "      <td>...</td>\n",
              "      <td>...</td>\n",
              "      <td>...</td>\n",
              "      <td>...</td>\n",
              "    </tr>\n",
              "    <tr>\n",
              "      <th>318</th>\n",
              "      <td>413</td>\n",
              "      <td>-9.090464</td>\n",
              "      <td>41.004433</td>\n",
              "      <td>102.5</td>\n",
              "      <td>-42.000000</td>\n",
              "      <td>1456</td>\n",
              "    </tr>\n",
              "    <tr>\n",
              "      <th>319</th>\n",
              "      <td>414</td>\n",
              "      <td>-9.588275</td>\n",
              "      <td>43.249912</td>\n",
              "      <td>102.5</td>\n",
              "      <td>-44.299999</td>\n",
              "      <td>1448</td>\n",
              "    </tr>\n",
              "    <tr>\n",
              "      <th>320</th>\n",
              "      <td>415</td>\n",
              "      <td>-10.042798</td>\n",
              "      <td>45.300137</td>\n",
              "      <td>102.5</td>\n",
              "      <td>-46.400002</td>\n",
              "      <td>1409</td>\n",
              "    </tr>\n",
              "    <tr>\n",
              "      <th>321</th>\n",
              "      <td>416</td>\n",
              "      <td>-10.540609</td>\n",
              "      <td>47.545616</td>\n",
              "      <td>102.5</td>\n",
              "      <td>-48.700001</td>\n",
              "      <td>1416</td>\n",
              "    </tr>\n",
              "    <tr>\n",
              "      <th>322</th>\n",
              "      <td>417</td>\n",
              "      <td>-11.060064</td>\n",
              "      <td>49.888725</td>\n",
              "      <td>102.5</td>\n",
              "      <td>-51.099999</td>\n",
              "      <td>1429</td>\n",
              "    </tr>\n",
              "  </tbody>\n",
              "</table>\n",
              "<p>323 rows × 6 columns</p>\n",
              "</div>"
            ],
            "text/plain": [
              "     row.names  east.west  north.south  angle  radial.position  velocity\n",
              "0            3   8.462789   -38.173172  102.5        39.099998      1769\n",
              "1            4   7.964978   -35.927692  102.5        36.799999      1749\n",
              "2            5   7.467167   -33.682213  102.5        34.500001      1749\n",
              "3            6   6.969356   -31.436731  102.5        32.200000      1758\n",
              "4            7   6.471544   -29.191250  102.5        29.899999      1750\n",
              "..         ...        ...          ...    ...              ...       ...\n",
              "318        413  -9.090464    41.004433  102.5       -42.000000      1456\n",
              "319        414  -9.588275    43.249912  102.5       -44.299999      1448\n",
              "320        415 -10.042798    45.300137  102.5       -46.400002      1409\n",
              "321        416 -10.540609    47.545616  102.5       -48.700001      1416\n",
              "322        417 -11.060064    49.888725  102.5       -51.099999      1429\n",
              "\n",
              "[323 rows x 6 columns]"
            ]
          },
          "metadata": {},
          "execution_count": 5
        }
      ]
    },
    {
      "cell_type": "code",
      "metadata": {
        "id": "phn9ScoyYqWi"
      },
      "source": [
        ""
      ],
      "execution_count": null,
      "outputs": []
    }
  ]
}